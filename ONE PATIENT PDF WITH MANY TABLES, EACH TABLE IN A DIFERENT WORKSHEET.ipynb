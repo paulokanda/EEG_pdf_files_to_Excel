{
 "cells": [
  {
   "cell_type": "markdown",
   "id": "a2737dbb-9024-40ef-aec7-19c929624c49",
   "metadata": {},
   "source": [
    "# ONE PATIENT PDF WITH MANY TABLES, EACH TABLE IN A DIFERENT WORKSHEET"
   ]
  },
  {
   "cell_type": "code",
   "execution_count": 10,
   "id": "ee35d604-33c5-436f-806d-9fbfdcdb837b",
   "metadata": {},
   "outputs": [
    {
     "name": "stdout",
     "output_type": "stream",
     "text": [
      "Tables and titles extracted and saved to 'E:\\EEG_notebook\\EEG_pdf_files_to_Excel\\PROTOCOL.PYTHON.EXCEL.xlsx'.\n"
     ]
    }
   ],
   "source": [
    "import pdfplumber\n",
    "import pandas as pd\n",
    "import os\n",
    "\n",
    "# Get the directory where the script is located\n",
    "script_dir = os.path.dirname(os.path.abspath(\"E:\\EEG_notebook\\EEG_pdf_files_to_Excel\\PROTOCOL.PYTHON.EXCEL.pdf\"))\n",
    "\n",
    "# Specify the input PDF file (replace with your actual file path)\n",
    "pdf_file = os.path.join(script_dir, \"E:\\EEG_notebook\\EEG_pdf_files_to_Excel\\PROTOCOL.PYTHON.EXCEL.pdf\")\n",
    "\n",
    "# Extract the filename without extension for the output Excel file\n",
    "pdf_filename = os.path.splitext(pdf_file)[0]\n",
    "excel_file = os.path.join(script_dir, pdf_filename + \".xlsx\")\n",
    "\n",
    "# Function to clean strings (remove leading/trailing spaces)\n",
    "def clean_string(s):\n",
    "    if isinstance(s, str):\n",
    "        return s.strip()  \n",
    "    return s\n",
    "\n",
    "# Function to check and remove duplicate titles from tables\n",
    "def remove_title_from_table(title, table):\n",
    "    if len(table) > 0 and isinstance(table[0][0], str) and title == table[0][0].strip():\n",
    "        return table[1:]  \n",
    "    return table\n",
    "\n",
    "# List to store extracted tables and their titles\n",
    "all_tables = []\n",
    "\n",
    "with pdfplumber.open(pdf_file) as pdf:\n",
    "    for page_num, page in enumerate(pdf.pages, start=1): \n",
    "        page_text = page.extract_text()\n",
    "        lines = page_text.split(\"\\n\")\n",
    "\n",
    "        tables = page.extract_tables()\n",
    "        for table in tables:\n",
    "            if not table or len(table[0]) < 2:\n",
    "                continue \n",
    "\n",
    "            # Find the table title (line above the table)\n",
    "            title = None\n",
    "            for line in lines:\n",
    "                if line.strip():\n",
    "                    title = clean_string(line)\n",
    "                    break\n",
    "\n",
    "            # Remove title from table if it's included as the first row\n",
    "            table = remove_title_from_table(title, table)\n",
    "\n",
    "            # Create pandas DataFrame\n",
    "            df = pd.DataFrame(table)\n",
    "\n",
    "            # Set the first row as the header\n",
    "            df.columns = df.iloc[0]\n",
    "            df = df[1:]\n",
    "\n",
    "            # Clean data by removing leading/trailing spaces from cells\n",
    "            df = df.map(lambda x: clean_string(x) if isinstance(x, str) else x)\n",
    "\n",
    "            # Add table and title to the list\n",
    "            all_tables.append((title, df))\n",
    "\n",
    "# Save tables to Excel\n",
    "with pd.ExcelWriter(excel_file, engine=\"openpyxl\") as writer:\n",
    "    for i, (title, table) in enumerate(all_tables):\n",
    "        sheet_name = f\"Table_{i+1}\"\n",
    "        table.to_excel(writer, sheet_name=sheet_name, index=False, startrow=1) \n",
    "\n",
    "        # Add table title to the first row of the sheet\n",
    "        worksheet = writer.sheets[sheet_name]\n",
    "        worksheet.cell(row=1, column=1).value = title\n",
    "\n",
    "print(f\"Tables and titles extracted and saved to '{excel_file}'.\")"
   ]
  },
  {
   "cell_type": "code",
   "execution_count": 2,
   "id": "56b609cc-96a2-443d-822e-d9c5dbe9f1dc",
   "metadata": {},
   "outputs": [
    {
     "name": "stdout",
     "output_type": "stream",
     "text": [
      "Current environment: C:\\Users\\paulo\\miniconda3\\envs\\qeeg397\n"
     ]
    }
   ],
   "source": [
    "import sys\n",
    "print(f\"Current environment: {sys.prefix}\") "
   ]
  },
  {
   "cell_type": "code",
   "execution_count": null,
   "id": "83fd86b3-33f3-4117-8e85-4116dcccf725",
   "metadata": {},
   "outputs": [],
   "source": []
  },
  {
   "cell_type": "code",
   "execution_count": null,
   "id": "f95ce564-7b7d-4884-84a0-d908aa1b17d7",
   "metadata": {},
   "outputs": [],
   "source": []
  },
  {
   "cell_type": "code",
   "execution_count": null,
   "id": "c80d5115-5a30-4505-9782-8f6a32505593",
   "metadata": {},
   "outputs": [],
   "source": []
  },
  {
   "cell_type": "code",
   "execution_count": null,
   "id": "01eb7015-b6ca-423c-9d8b-040f21cfb8af",
   "metadata": {},
   "outputs": [],
   "source": []
  }
 ],
 "metadata": {
  "kernelspec": {
   "display_name": "Python 3 (ipykernel)",
   "language": "python",
   "name": "python3"
  },
  "language_info": {
   "codemirror_mode": {
    "name": "ipython",
    "version": 3
   },
   "file_extension": ".py",
   "mimetype": "text/x-python",
   "name": "python",
   "nbconvert_exporter": "python",
   "pygments_lexer": "ipython3",
   "version": "3.9.7"
  }
 },
 "nbformat": 4,
 "nbformat_minor": 5
}
