{
 "cells": [
  {
   "cell_type": "markdown",
   "id": "7d15f615-2c92-4082-a590-354e27118d45",
   "metadata": {},
   "source": [
    "# ALL TABLES IN ONE WORKSHEET, TITLE AND HEAD ARE SEPARATED ONE LINE FROM TABLE"
   ]
  },
  {
   "cell_type": "markdown",
   "id": "0d243915-b2e0-4b98-bc56-6b92b2b33674",
   "metadata": {},
   "source": [
    "Dynamic PDF and Excel Paths – The script asks for the PDF path and the desired Excel filename.\n",
    "Excel Creation in Same Folder – The Excel file is created in the same directory as the PDF.\n",
    "Custom Excel Naming – The user can specify the Excel file name without hardcoding it."
   ]
  },
  {
   "cell_type": "code",
   "execution_count": null,
   "id": "bf1678f1-54a9-4e87-b254-c0f7ce341d1f",
   "metadata": {},
   "outputs": [],
   "source": []
  },
  {
   "cell_type": "markdown",
   "id": "0075fc19-43e0-48eb-b7bd-23605f452ddc",
   "metadata": {},
   "source": [
    "In ancient Egypt, epileptic seizures were seen as visits from the gods – a mystical experience that connected the afflicted to the divine. However, during the Middle Ages, the same seizures could lead to far more dangerous consequences. Epilepsy was often misunderstood and associated with demonic possession, putting those who suffered from it at risk of being condemned and even burned at the stake.\n",
    "\n",
    "Amidst this dark period, Saint Valentine emerged as the patron saint of epileptics, offering hope and spiritual protection to those battling the condition. His legacy stands as a reminder of compassion and the importance of understanding medical conditions beyond superstition.\n",
    "\n",
    "I don't believe in witches or demons, but I do believe you'll hit the like button and subscribe to the channel."
   ]
  },
  {
   "cell_type": "code",
   "execution_count": null,
   "id": "9ee87374-e907-4c6c-8950-8680a1a1d806",
   "metadata": {},
   "outputs": [],
   "source": []
  },
  {
   "cell_type": "code",
   "execution_count": 2,
   "id": "5e094328-4eac-4afb-b7a5-5e3a1ab460aa",
   "metadata": {},
   "outputs": [
    {
     "name": "stdout",
     "output_type": "stream",
     "text": [
      "Tables from 'PROTOCOL.PYTHON.EXCEL01.pdf' added to 'E:/EEG_notebook/EEG_pdf_files_to_Excel/study pdfs\\test1.xlsx' in sheet 'PROTOCOL.PYTHON.EXCEL01'.\n",
      "Tables from 'PROTOCOL.PYTHON.EXCEL02.pdf' added to 'E:/EEG_notebook/EEG_pdf_files_to_Excel/study pdfs\\test1.xlsx' in sheet 'PROTOCOL.PYTHON.EXCEL02'.\n",
      "Tables from 'PROTOCOL.PYTHON.EXCEL03.pdf' added to 'E:/EEG_notebook/EEG_pdf_files_to_Excel/study pdfs\\test1.xlsx' in sheet 'PROTOCOL.PYTHON.EXCEL03'.\n",
      "Processing complete. All results saved in one Excel file at: E:/EEG_notebook/EEG_pdf_files_to_Excel/study pdfs\n"
     ]
    }
   ],
   "source": [
    "import pdfplumber\n",
    "import pandas as pd\n",
    "import os\n",
    "import tkinter as tk\n",
    "from tkinter import filedialog, simpledialog\n",
    "\n",
    "# Ask user to select a folder containing PDFs\n",
    "root = tk.Tk()\n",
    "root.withdraw()  # Hide the main window\n",
    "folder_path = filedialog.askdirectory(title=\"Select Folder with PDF Files\")\n",
    "\n",
    "if not folder_path:\n",
    "    print(\"No folder selected. Exiting.\")\n",
    "    exit()\n",
    "\n",
    "# Ask for Excel file name\n",
    "excel_file_name = simpledialog.askstring(\"Input\", \"Enter a name for the Excel file (without extension):\")\n",
    "if not excel_file_name:\n",
    "    print(\"No file name provided. Exiting.\")\n",
    "    exit()\n",
    "\n",
    "excel_file = os.path.join(folder_path, excel_file_name + \".xlsx\")\n",
    "\n",
    "# Function to clean strings (remove leading/trailing spaces)\n",
    "def clean_string(s):\n",
    "    if isinstance(s, str):\n",
    "        return s.strip()\n",
    "    return s\n",
    "\n",
    "# Function to check and remove duplicate titles from tables\n",
    "def remove_title_from_table(title, table):\n",
    "    if len(table) > 0 and isinstance(table[0][0], str) and title == table[0][0].strip():\n",
    "        return table[1:]  # Remove first row if it matches the title\n",
    "    return table\n",
    "\n",
    "# Prepare to write to a single Excel file\n",
    "with pd.ExcelWriter(excel_file, engine=\"openpyxl\") as writer:\n",
    "    # Flag to track if any data was written\n",
    "    data_written = False\n",
    "\n",
    "    # Iterate over all PDF files in the selected folder\n",
    "    for file_name in os.listdir(folder_path):\n",
    "        if file_name.lower().endswith(\".pdf\"):\n",
    "            pdf_file = os.path.join(folder_path, file_name)\n",
    "            pdf_filename = os.path.splitext(file_name)[0]\n",
    "\n",
    "            # List to store DataFrames to append side by side\n",
    "            table_list = []\n",
    "\n",
    "            # Open and process each PDF\n",
    "            with pdfplumber.open(pdf_file) as pdf:\n",
    "                for page_num, page in enumerate(pdf.pages, start=1):\n",
    "                    page_text = page.extract_text()\n",
    "                    if not page_text:\n",
    "                        continue  # Skip if no text on the page\n",
    "\n",
    "                    lines = page_text.split(\"\\n\")\n",
    "                    tables = page.extract_tables()\n",
    "\n",
    "                    for table in tables:\n",
    "                        if not table or len(table[0]) < 2:\n",
    "                            continue  # Skip tables with less than 2 columns\n",
    "\n",
    "                        # Find the table title (line above the table)\n",
    "                        title = None\n",
    "                        for line in lines:\n",
    "                            if line.strip():\n",
    "                                title = clean_string(line)\n",
    "                                break\n",
    "\n",
    "                        # Remove title from table if it's included as the first row\n",
    "                        table = remove_title_from_table(title, table)\n",
    "\n",
    "                        # Create pandas DataFrame from the table\n",
    "                        df = pd.DataFrame(table)\n",
    "\n",
    "                        # Set the first row as the header\n",
    "                        df.columns = df.iloc[0]\n",
    "                        df = df[1:]\n",
    "\n",
    "                        # Clean data by removing leading/trailing spaces from cells\n",
    "                        df = df.map(lambda x: clean_string(x) if isinstance(x, str) else x)\n",
    "\n",
    "                        # Ensure table name aligns with the table width\n",
    "                        table_name_df = pd.DataFrame([[title] + [None] * (len(df.columns) - 1)], columns=df.columns)\n",
    "                        header_df = pd.DataFrame([df.columns.tolist()], columns=df.columns)  # Create header\n",
    "                        full_table = pd.concat([table_name_df, header_df, df], ignore_index=True)\n",
    "\n",
    "                        # Append with spacing (2 columns between tables)\n",
    "                        if table_list:\n",
    "                            spacer = pd.DataFrame(columns=[None] * 2)\n",
    "                            table_list.append(spacer)\n",
    "                        table_list.append(full_table)\n",
    "\n",
    "            # Concatenate tables side by side with spacing\n",
    "            if table_list:\n",
    "                combined_df = pd.concat(table_list, axis=1)\n",
    "                combined_df.to_excel(writer, sheet_name=pdf_filename[:31], index=False, header=False)\n",
    "                data_written = True\n",
    "                print(f\"Tables from '{file_name}' added to '{excel_file}' in sheet '{pdf_filename[:31]}'.\")\n",
    "            else:\n",
    "                print(f\"No tables found in '{file_name}'. Skipping.\")\n",
    "\n",
    "    # Create a dummy sheet if no data was written\n",
    "    if not data_written:\n",
    "        empty_df = pd.DataFrame([\"No tables found in any PDF.\"])\n",
    "        empty_df.to_excel(writer, sheet_name=\"No Data\", index=False, header=False)\n",
    "\n",
    "print(f\"Processing complete. All results saved in one Excel file at: {folder_path}\")\n"
   ]
  },
  {
   "cell_type": "code",
   "execution_count": null,
   "id": "2a689a96-3ce3-4242-a54c-af51ce994b4f",
   "metadata": {},
   "outputs": [],
   "source": []
  }
 ],
 "metadata": {
  "kernelspec": {
   "display_name": "Python 3 (ipykernel)",
   "language": "python",
   "name": "python3"
  },
  "language_info": {
   "codemirror_mode": {
    "name": "ipython",
    "version": 3
   },
   "file_extension": ".py",
   "mimetype": "text/x-python",
   "name": "python",
   "nbconvert_exporter": "python",
   "pygments_lexer": "ipython3",
   "version": "3.9.7"
  }
 },
 "nbformat": 4,
 "nbformat_minor": 5
}
