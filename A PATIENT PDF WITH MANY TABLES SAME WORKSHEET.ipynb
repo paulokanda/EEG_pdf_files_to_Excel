{
 "cells": [
  {
   "cell_type": "markdown",
   "id": "7d15f615-2c92-4082-a590-354e27118d45",
   "metadata": {},
   "source": [
    "# ALL TABLES IN ONE WORKSHEET, TITLE AND HEAD ARE SEPARATED ONE LINE FROM TABLE"
   ]
  },
  {
   "cell_type": "markdown",
   "id": "0d243915-b2e0-4b98-bc56-6b92b2b33674",
   "metadata": {},
   "source": [
    "Dynamic PDF and Excel Paths – The script asks for the PDF path and the desired Excel filename.\n",
    "Excel Creation in Same Folder – The Excel file is created in the same directory as the PDF.\n",
    "Custom Excel Naming – The user can specify the Excel file name without hardcoding it."
   ]
  },
  {
   "cell_type": "markdown",
   "id": "9e2d1435-31f6-481c-8914-a9586ee1af08",
   "metadata": {},
   "source": [
    "# REMEMBER \n",
    "\n",
    "TO WORK WITH MORE THAN ONE PDF, THE STRUCTURE OF ALL PDFS MUST BE THE SAME OR YOU HAVE TO CREATE ONE EXCEL FILE FOR EACH PDF."
   ]
  },
  {
   "cell_type": "code",
   "execution_count": 8,
   "id": "b6fb288c-593d-46c3-8d01-4dbbb56d0a7b",
   "metadata": {},
   "outputs": [
    {
     "name": "stdin",
     "output_type": "stream",
     "text": [
      "Enter the desired name for the Excel file (without extension):  TEST1\n"
     ]
    },
    {
     "name": "stdout",
     "output_type": "stream",
     "text": [
      "The file 'E:/EEG_notebook\\TEST1.xlsx' already exists.\n"
     ]
    },
    {
     "name": "stdin",
     "output_type": "stream",
     "text": [
      "Do you want to add a new worksheet (y/n)?  Y\n",
      "Enter the name of the new worksheet:  P3\n"
     ]
    },
    {
     "name": "stdout",
     "output_type": "stream",
     "text": [
      "Tables saved in 'E:/EEG_notebook\\TEST1.xlsx' under worksheet 'P3'.\n"
     ]
    }
   ],
   "source": [
    "import pdfplumber\n",
    "import pandas as pd\n",
    "import os\n",
    "from openpyxl import load_workbook\n",
    "from tkinter import Tk, filedialog\n",
    "\n",
    "# Open file dialog to select PDF\n",
    "def get_pdf_file():\n",
    "    Tk().withdraw()  # Hide the root window\n",
    "    file_path = filedialog.askopenfilename(\n",
    "        title=\"Select PDF File\",\n",
    "        filetypes=[(\"PDF Files\", \"*.pdf\")]\n",
    "    )\n",
    "    return file_path\n",
    "\n",
    "# Get the PDF file path using file dialog\n",
    "pdf_file = get_pdf_file()\n",
    "\n",
    "# Exit if no file is selected\n",
    "if not pdf_file:\n",
    "    print(\"No file selected. Exiting.\")\n",
    "    exit()\n",
    "\n",
    "# Extract the directory and name from the PDF path\n",
    "pdf_dir = os.path.dirname(pdf_file)\n",
    "\n",
    "# Ask for the desired Excel file name\n",
    "excel_name = input(\"Enter the desired name for the Excel file (without extension): \")\n",
    "excel_file = os.path.join(pdf_dir, f\"{excel_name}.xlsx\")\n",
    "\n",
    "# List to store tables and their titles\n",
    "all_tables = []\n",
    "\n",
    "# Function to clean spaces and irrelevant characters\n",
    "def clean_string(s):\n",
    "    if isinstance(s, str):\n",
    "        return s.strip()\n",
    "    return s\n",
    "\n",
    "# Function to check if the title is duplicated in the table header\n",
    "def remove_title_from_table(title, table):\n",
    "    if len(table) > 0 and isinstance(table[0][0], str) and title == table[0][0].strip():\n",
    "        return table[1:]\n",
    "    return table\n",
    "\n",
    "# Read and extract tables and titles from the PDF\n",
    "with pdfplumber.open(pdf_file) as pdf:\n",
    "    for i, page in enumerate(pdf.pages):\n",
    "        text = page.extract_text()\n",
    "        lines = text.split(\"\\n\")\n",
    "\n",
    "        tables = page.extract_tables()\n",
    "        for table in tables:\n",
    "            if not table or len(table[0]) < 2:\n",
    "                continue\n",
    "\n",
    "            title = None\n",
    "            for line in lines:\n",
    "                if line.strip():\n",
    "                    title = clean_string(line)\n",
    "                    break\n",
    "\n",
    "            table = remove_title_from_table(title, table)\n",
    "            df = pd.DataFrame(table)\n",
    "\n",
    "            df.columns = df.iloc[0]\n",
    "            df = df[1:]\n",
    "\n",
    "            df = df.map(lambda x: clean_string(x) if isinstance(x, str) else x)\n",
    "\n",
    "            all_tables.append((title, df))\n",
    "\n",
    "# Check if the Excel file already exists\n",
    "if os.path.exists(excel_file):\n",
    "    print(f\"The file '{excel_file}' already exists.\")\n",
    "    add_new_sheet = input(\"Do you want to add a new worksheet (y/n)? \").lower()\n",
    "\n",
    "    if add_new_sheet == 'y':\n",
    "        book = load_workbook(excel_file)\n",
    "        sheet_name = input(\"Enter the name of the new worksheet: \")\n",
    "\n",
    "        worksheet = book.create_sheet(sheet_name)\n",
    "\n",
    "        current_col = 1\n",
    "        for i, (title, table) in enumerate(all_tables):\n",
    "            worksheet.cell(row=1, column=current_col).value = title\n",
    "            for col_idx, column in enumerate(table.columns):\n",
    "                worksheet.cell(row=2, column=current_col + col_idx).value = column\n",
    "            for row_idx, row in table.iterrows():\n",
    "                for col_idx, value in enumerate(row):\n",
    "                    worksheet.cell(row=row_idx + 2, column=current_col + col_idx).value = value\n",
    "            current_col += len(table.columns) + 2\n",
    "\n",
    "        book.save(excel_file)\n",
    "        print(f\"Tables saved in '{excel_file}' under worksheet '{sheet_name}'.\")\n",
    "\n",
    "else:\n",
    "    # Ask for the first worksheet name when creating a new Excel file\n",
    "    first_sheet_name = input(\"What is the name of the first worksheet? \")\n",
    "\n",
    "    with pd.ExcelWriter(excel_file, engine=\"openpyxl\") as writer:\n",
    "        worksheet = writer.book.create_sheet(title=first_sheet_name)\n",
    "\n",
    "        current_col = 1\n",
    "        for i, (title, table) in enumerate(all_tables):\n",
    "            worksheet.cell(row=1, column=current_col).value = title\n",
    "            for col_idx, column in enumerate(table.columns):\n",
    "                worksheet.cell(row=2, column=current_col + col_idx).value = column\n",
    "            for row_idx, row in table.iterrows():\n",
    "                for col_idx, value in enumerate(row):\n",
    "                    worksheet.cell(row=row_idx + 3, column=current_col + col_idx).value = value\n",
    "            current_col += len(table.columns) + 2\n",
    "\n",
    "    print(f\"Tables extracted and saved in '{excel_file}' with first worksheet '{first_sheet_name}'.\")\n"
   ]
  },
  {
   "cell_type": "code",
   "execution_count": null,
   "id": "f1518edb-571f-4487-9b69-73ee019441cf",
   "metadata": {},
   "outputs": [],
   "source": []
  }
 ],
 "metadata": {
  "kernelspec": {
   "display_name": "Python 3 (ipykernel)",
   "language": "python",
   "name": "python3"
  },
  "language_info": {
   "codemirror_mode": {
    "name": "ipython",
    "version": 3
   },
   "file_extension": ".py",
   "mimetype": "text/x-python",
   "name": "python",
   "nbconvert_exporter": "python",
   "pygments_lexer": "ipython3",
   "version": "3.9.7"
  }
 },
 "nbformat": 4,
 "nbformat_minor": 5
}
